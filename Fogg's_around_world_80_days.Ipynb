{
 "cells": [
  {
   "cell_type": "code",
   "execution_count": 2,
   "metadata": {},
   "outputs": [],
   "source": [
    "# Load Spacy's pre-trained model for medium-sized English language data\n",
    "import spacy\n",
    "nlp = spacy.load('en_core_web_md')\n",
    "\n",
    "# Read in the text file with the novel's content\n",
    "with open('fogg.txt', 'r',encoding='utf-8') as f:\n",
    "    text = f.read()\n",
    "\n",
    "# Initialize an empty set to store the identified location entities\n",
    "entities = set()\n",
    "\n",
    "# Process the text with Spacy's NLP pipeline\n",
    "doc = nlp(text)\n",
    "\n",
    "# Loop through each entity in the processed document\n",
    "for ent in doc.ents:\n",
    "    # Check if the entity is labeled as a location (LOC) and starts with a capital letter\n",
    "    if ent.label_ == 'LOC' and ent.text.istitle():\n",
    "        # Remove any unnecessary characters from the entity text using regex\n",
    "        entity_text = re.sub(r'[^\\w\\s]|[\\d]', '', ent.text).strip()\n",
    "        entity_text = re.sub(r'([a-z])([A-Z])', r'\\1 \\2', entity_text)\n",
    "        # Add the cleaned entity text to the set of identified entities\n",
    "        if len(entity_text) > 1:\n",
    "            entities.add(entity_text)\n",
    "\n",
    "# Convert the set of entities to a Pandas DataFrame for easy analysis and visualization\n",
    "df = pd.DataFrame(entities)"
   ]
  },
  {
   "cell_type": "code",
   "execution_count": 3,
   "metadata": {},
   "outputs": [],
   "source": [
    "pd.set_option('display.max_rows', 500)"
   ]
  },
  {
   "cell_type": "code",
   "execution_count": 4,
   "metadata": {},
   "outputs": [],
   "source": [
    "df = df.drop_duplicates()"
   ]
  },
  {
   "cell_type": "code",
   "execution_count": 5,
   "metadata": {},
   "outputs": [
    {
     "data": {
      "text/html": [
       "<div>\n",
       "<style scoped>\n",
       "    .dataframe tbody tr th:only-of-type {\n",
       "        vertical-align: middle;\n",
       "    }\n",
       "\n",
       "    .dataframe tbody tr th {\n",
       "        vertical-align: top;\n",
       "    }\n",
       "\n",
       "    .dataframe thead th {\n",
       "        text-align: right;\n",
       "    }\n",
       "</style>\n",
       "<table border=\"1\" class=\"dataframe\">\n",
       "  <thead>\n",
       "    <tr style=\"text-align: right;\">\n",
       "      <th></th>\n",
       "      <th>0</th>\n",
       "    </tr>\n",
       "  </thead>\n",
       "  <tbody>\n",
       "    <tr>\n",
       "      <th>0</th>\n",
       "      <td>Europe</td>\n",
       "    </tr>\n",
       "    <tr>\n",
       "      <th>1</th>\n",
       "      <td>Northern</td>\n",
       "    </tr>\n",
       "    <tr>\n",
       "      <th>2</th>\n",
       "      <td>Platte River</td>\n",
       "    </tr>\n",
       "    <tr>\n",
       "      <th>3</th>\n",
       "      <td>Pacific</td>\n",
       "    </tr>\n",
       "    <tr>\n",
       "      <th>4</th>\n",
       "      <td>San Pablo Bay</td>\n",
       "    </tr>\n",
       "    <tr>\n",
       "      <th>5</th>\n",
       "      <td>Suez</td>\n",
       "    </tr>\n",
       "    <tr>\n",
       "      <th>6</th>\n",
       "      <td>Havre</td>\n",
       "    </tr>\n",
       "    <tr>\n",
       "      <th>7</th>\n",
       "      <td>Bordeaux</td>\n",
       "    </tr>\n",
       "    <tr>\n",
       "      <th>8</th>\n",
       "      <td>Humboldt River</td>\n",
       "    </tr>\n",
       "    <tr>\n",
       "      <th>9</th>\n",
       "      <td>Lake\\nAsphaltite</td>\n",
       "    </tr>\n",
       "    <tr>\n",
       "      <th>10</th>\n",
       "      <td>Burlington\\nGardens</td>\n",
       "    </tr>\n",
       "    <tr>\n",
       "      <th>11</th>\n",
       "      <td>Atlantic</td>\n",
       "    </tr>\n",
       "    <tr>\n",
       "      <th>12</th>\n",
       "      <td>Laramie</td>\n",
       "    </tr>\n",
       "    <tr>\n",
       "      <th>13</th>\n",
       "      <td>Bitter Creek Valley</td>\n",
       "    </tr>\n",
       "    <tr>\n",
       "      <th>14</th>\n",
       "      <td>Earth</td>\n",
       "    </tr>\n",
       "    <tr>\n",
       "      <th>15</th>\n",
       "      <td>Humboldt Mountains</td>\n",
       "    </tr>\n",
       "    <tr>\n",
       "      <th>16</th>\n",
       "      <td>Fire Island</td>\n",
       "    </tr>\n",
       "    <tr>\n",
       "      <th>17</th>\n",
       "      <td>Kholby</td>\n",
       "    </tr>\n",
       "    <tr>\n",
       "      <th>18</th>\n",
       "      <td>Mississippi</td>\n",
       "    </tr>\n",
       "    <tr>\n",
       "      <th>19</th>\n",
       "      <td>North America</td>\n",
       "    </tr>\n",
       "    <tr>\n",
       "      <th>20</th>\n",
       "      <td>Green River</td>\n",
       "    </tr>\n",
       "    <tr>\n",
       "      <th>21</th>\n",
       "      <td>Laramie Peak</td>\n",
       "    </tr>\n",
       "    <tr>\n",
       "      <th>22</th>\n",
       "      <td>New Holland</td>\n",
       "    </tr>\n",
       "    <tr>\n",
       "      <th>23</th>\n",
       "      <td>Shanghai River</td>\n",
       "    </tr>\n",
       "    <tr>\n",
       "      <th>24</th>\n",
       "      <td>Lake Michigan</td>\n",
       "    </tr>\n",
       "    <tr>\n",
       "      <th>25</th>\n",
       "      <td>Queenstown Harbour</td>\n",
       "    </tr>\n",
       "    <tr>\n",
       "      <th>26</th>\n",
       "      <td>Wahsatch Mountains</td>\n",
       "    </tr>\n",
       "    <tr>\n",
       "      <th>27</th>\n",
       "      <td>Malabar Hill</td>\n",
       "    </tr>\n",
       "    <tr>\n",
       "      <th>28</th>\n",
       "      <td>Peninsular</td>\n",
       "    </tr>\n",
       "    <tr>\n",
       "      <th>29</th>\n",
       "      <td>Asia</td>\n",
       "    </tr>\n",
       "    <tr>\n",
       "      <th>30</th>\n",
       "      <td>Republican River</td>\n",
       "    </tr>\n",
       "    <tr>\n",
       "      <th>31</th>\n",
       "      <td>American Desert</td>\n",
       "    </tr>\n",
       "    <tr>\n",
       "      <th>32</th>\n",
       "      <td>Andaman</td>\n",
       "    </tr>\n",
       "    <tr>\n",
       "      <th>33</th>\n",
       "      <td>South</td>\n",
       "    </tr>\n",
       "    <tr>\n",
       "      <th>34</th>\n",
       "      <td>Humboldt Range</td>\n",
       "    </tr>\n",
       "    <tr>\n",
       "      <th>35</th>\n",
       "      <td>Neptune</td>\n",
       "    </tr>\n",
       "    <tr>\n",
       "      <th>36</th>\n",
       "      <td>Uranus</td>\n",
       "    </tr>\n",
       "    <tr>\n",
       "      <th>37</th>\n",
       "      <td>Malabar\\nHill</td>\n",
       "    </tr>\n",
       "    <tr>\n",
       "      <th>38</th>\n",
       "      <td>Saddle Peak</td>\n",
       "    </tr>\n",
       "    <tr>\n",
       "      <th>39</th>\n",
       "      <td>Africa</td>\n",
       "    </tr>\n",
       "    <tr>\n",
       "      <th>40</th>\n",
       "      <td>Central Pacific</td>\n",
       "    </tr>\n",
       "    <tr>\n",
       "      <th>41</th>\n",
       "      <td>Hudson</td>\n",
       "    </tr>\n",
       "    <tr>\n",
       "      <th>42</th>\n",
       "      <td>Weber River</td>\n",
       "    </tr>\n",
       "    <tr>\n",
       "      <th>43</th>\n",
       "      <td>Gulf</td>\n",
       "    </tr>\n",
       "    <tr>\n",
       "      <th>44</th>\n",
       "      <td>Lodge Pole Creek</td>\n",
       "    </tr>\n",
       "    <tr>\n",
       "      <th>45</th>\n",
       "      <td>Khandeish</td>\n",
       "    </tr>\n",
       "  </tbody>\n",
       "</table>\n",
       "</div>"
      ],
      "text/plain": [
       "                      0\n",
       "0                Europe\n",
       "1              Northern\n",
       "2          Platte River\n",
       "3               Pacific\n",
       "4         San Pablo Bay\n",
       "5                  Suez\n",
       "6                 Havre\n",
       "7              Bordeaux\n",
       "8        Humboldt River\n",
       "9      Lake\\nAsphaltite\n",
       "10  Burlington\\nGardens\n",
       "11             Atlantic\n",
       "12              Laramie\n",
       "13  Bitter Creek Valley\n",
       "14                Earth\n",
       "15   Humboldt Mountains\n",
       "16          Fire Island\n",
       "17               Kholby\n",
       "18          Mississippi\n",
       "19        North America\n",
       "20          Green River\n",
       "21         Laramie Peak\n",
       "22          New Holland\n",
       "23       Shanghai River\n",
       "24        Lake Michigan\n",
       "25   Queenstown Harbour\n",
       "26   Wahsatch Mountains\n",
       "27         Malabar Hill\n",
       "28           Peninsular\n",
       "29                 Asia\n",
       "30     Republican River\n",
       "31      American Desert\n",
       "32              Andaman\n",
       "33                South\n",
       "34       Humboldt Range\n",
       "35              Neptune\n",
       "36               Uranus\n",
       "37        Malabar\\nHill\n",
       "38          Saddle Peak\n",
       "39               Africa\n",
       "40      Central Pacific\n",
       "41               Hudson\n",
       "42          Weber River\n",
       "43                 Gulf\n",
       "44     Lodge Pole Creek\n",
       "45            Khandeish"
      ]
     },
     "execution_count": 5,
     "metadata": {},
     "output_type": "execute_result"
    }
   ],
   "source": [
    "df"
   ]
  },
  {
   "cell_type": "code",
   "execution_count": 6,
   "metadata": {},
   "outputs": [
    {
     "name": "stderr",
     "output_type": "stream",
     "text": [
      "/var/folders/d8/2pt8r3f50tq3863jc_l0zz0r0000gn/T/ipykernel_2389/2838847621.py:24: SettingWithCopyWarning: \n",
      "A value is trying to be set on a copy of a slice from a DataFrame.\n",
      "Try using .loc[row_indexer,col_indexer] = value instead\n",
      "\n",
      "See the caveats in the documentation: https://pandas.pydata.org/pandas-docs/stable/user_guide/indexing.html#returning-a-view-versus-a-copy\n",
      "  df[['latitude', 'longitude']] = pd.DataFrame(df['coordinates'].tolist(), index=df.index)\n",
      "/var/folders/d8/2pt8r3f50tq3863jc_l0zz0r0000gn/T/ipykernel_2389/2838847621.py:24: SettingWithCopyWarning: \n",
      "A value is trying to be set on a copy of a slice from a DataFrame.\n",
      "Try using .loc[row_indexer,col_indexer] = value instead\n",
      "\n",
      "See the caveats in the documentation: https://pandas.pydata.org/pandas-docs/stable/user_guide/indexing.html#returning-a-view-versus-a-copy\n",
      "  df[['latitude', 'longitude']] = pd.DataFrame(df['coordinates'].tolist(), index=df.index)\n"
     ]
    }
   ],
   "source": [
    "from geopy.geocoders import Nominatim\n",
    "\n",
    "# Create geolocator object\n",
    "geolocator = Nominatim(user_agent=\"my-app\")\n",
    "\n",
    "# Define function to get location coordinates\n",
    "def get_location_coordinates(location):\n",
    "    try:\n",
    "        # Use geolocator to get location\n",
    "        location = geolocator.geocode(location)\n",
    "        # Return latitude and longitude\n",
    "        return (location.latitude, location.longitude)\n",
    "    except:\n",
    "        # If location not found or there is an error, return None\n",
    "        return None\n",
    "\n",
    "# Apply the function to the dataframe to get coordinates for each location\n",
    "df['coordinates'] = df[0].apply(get_location_coordinates)\n",
    "\n",
    "# Drop any rows where coordinates are None\n",
    "df = df.dropna()\n",
    "\n",
    "# Split coordinates into separate columns\n",
    "df[['latitude', 'longitude']] = pd.DataFrame(df['coordinates'].tolist(), index=df.index)\n",
    "\n",
    "# Drop the coordinates column\n",
    "df = df.drop('coordinates', axis=1)\n",
    "\n",
    "df = df.sort_values(by='longitude', ascending=False)\n"
   ]
  },
  {
   "cell_type": "code",
   "execution_count": 7,
   "metadata": {},
   "outputs": [
    {
     "data": {
      "text/html": [
       "<div>\n",
       "<style scoped>\n",
       "    .dataframe tbody tr th:only-of-type {\n",
       "        vertical-align: middle;\n",
       "    }\n",
       "\n",
       "    .dataframe tbody tr th {\n",
       "        vertical-align: top;\n",
       "    }\n",
       "\n",
       "    .dataframe thead th {\n",
       "        text-align: right;\n",
       "    }\n",
       "</style>\n",
       "<table border=\"1\" class=\"dataframe\">\n",
       "  <thead>\n",
       "    <tr style=\"text-align: right;\">\n",
       "      <th></th>\n",
       "      <th>0</th>\n",
       "      <th>latitude</th>\n",
       "      <th>longitude</th>\n",
       "    </tr>\n",
       "  </thead>\n",
       "  <tbody>\n",
       "    <tr>\n",
       "      <th>44</th>\n",
       "      <td>Humboldt Mountains</td>\n",
       "      <td>-44.670229</td>\n",
       "      <td>168.224466</td>\n",
       "    </tr>\n",
       "    <tr>\n",
       "      <th>29</th>\n",
       "      <td>South</td>\n",
       "      <td>36.638392</td>\n",
       "      <td>127.696119</td>\n",
       "    </tr>\n",
       "    <tr>\n",
       "      <th>30</th>\n",
       "      <td>Shanghai River</td>\n",
       "      <td>30.778942</td>\n",
       "      <td>121.073122</td>\n",
       "    </tr>\n",
       "    <tr>\n",
       "      <th>3</th>\n",
       "      <td>Queenstown Harbour</td>\n",
       "      <td>1.278822</td>\n",
       "      <td>103.785394</td>\n",
       "    </tr>\n",
       "    <tr>\n",
       "      <th>10</th>\n",
       "      <td>Andaman</td>\n",
       "      <td>10.000105</td>\n",
       "      <td>93.000019</td>\n",
       "    </tr>\n",
       "    <tr>\n",
       "      <th>9</th>\n",
       "      <td>Asia</td>\n",
       "      <td>51.208697</td>\n",
       "      <td>89.234375</td>\n",
       "    </tr>\n",
       "    <tr>\n",
       "      <th>6</th>\n",
       "      <td>Malabar Hill</td>\n",
       "      <td>18.958162</td>\n",
       "      <td>72.803366</td>\n",
       "    </tr>\n",
       "    <tr>\n",
       "      <th>12</th>\n",
       "      <td>Suez</td>\n",
       "      <td>29.974498</td>\n",
       "      <td>32.537086</td>\n",
       "    </tr>\n",
       "    <tr>\n",
       "      <th>36</th>\n",
       "      <td>Uranus</td>\n",
       "      <td>44.422216</td>\n",
       "      <td>26.082092</td>\n",
       "    </tr>\n",
       "    <tr>\n",
       "      <th>20</th>\n",
       "      <td>Africa</td>\n",
       "      <td>11.502434</td>\n",
       "      <td>17.757812</td>\n",
       "    </tr>\n",
       "    <tr>\n",
       "      <th>0</th>\n",
       "      <td>Europe</td>\n",
       "      <td>51.000000</td>\n",
       "      <td>10.000000</td>\n",
       "    </tr>\n",
       "    <tr>\n",
       "      <th>33</th>\n",
       "      <td>Northern</td>\n",
       "      <td>9.660001</td>\n",
       "      <td>-0.394380</td>\n",
       "    </tr>\n",
       "    <tr>\n",
       "      <th>18</th>\n",
       "      <td>Bordeaux</td>\n",
       "      <td>44.841225</td>\n",
       "      <td>-0.580036</td>\n",
       "    </tr>\n",
       "    <tr>\n",
       "      <th>25</th>\n",
       "      <td>Central Pacific</td>\n",
       "      <td>5.138457</td>\n",
       "      <td>-1.280933</td>\n",
       "    </tr>\n",
       "    <tr>\n",
       "      <th>14</th>\n",
       "      <td>Burlington Gardens</td>\n",
       "      <td>53.331832</td>\n",
       "      <td>-6.249319</td>\n",
       "    </tr>\n",
       "    <tr>\n",
       "      <th>17</th>\n",
       "      <td>Fire Island</td>\n",
       "      <td>40.647600</td>\n",
       "      <td>-73.145947</td>\n",
       "    </tr>\n",
       "    <tr>\n",
       "      <th>37</th>\n",
       "      <td>Hudson</td>\n",
       "      <td>40.738163</td>\n",
       "      <td>-74.055073</td>\n",
       "    </tr>\n",
       "    <tr>\n",
       "      <th>22</th>\n",
       "      <td>Atlantic</td>\n",
       "      <td>39.514327</td>\n",
       "      <td>-74.663288</td>\n",
       "    </tr>\n",
       "    <tr>\n",
       "      <th>11</th>\n",
       "      <td>Neptune</td>\n",
       "      <td>39.075356</td>\n",
       "      <td>-81.779854</td>\n",
       "    </tr>\n",
       "    <tr>\n",
       "      <th>34</th>\n",
       "      <td>Peninsular</td>\n",
       "      <td>42.787091</td>\n",
       "      <td>-83.258503</td>\n",
       "    </tr>\n",
       "    <tr>\n",
       "      <th>28</th>\n",
       "      <td>Gulf</td>\n",
       "      <td>29.966525</td>\n",
       "      <td>-85.217589</td>\n",
       "    </tr>\n",
       "    <tr>\n",
       "      <th>35</th>\n",
       "      <td>Lake Michigan</td>\n",
       "      <td>43.855448</td>\n",
       "      <td>-87.081975</td>\n",
       "    </tr>\n",
       "    <tr>\n",
       "      <th>24</th>\n",
       "      <td>New Holland</td>\n",
       "      <td>40.184767</td>\n",
       "      <td>-89.580938</td>\n",
       "    </tr>\n",
       "    <tr>\n",
       "      <th>23</th>\n",
       "      <td>Mississippi</td>\n",
       "      <td>32.971528</td>\n",
       "      <td>-89.734850</td>\n",
       "    </tr>\n",
       "    <tr>\n",
       "      <th>21</th>\n",
       "      <td>Republican River</td>\n",
       "      <td>39.593491</td>\n",
       "      <td>-97.667035</td>\n",
       "    </tr>\n",
       "    <tr>\n",
       "      <th>31</th>\n",
       "      <td>Platte River</td>\n",
       "      <td>40.917237</td>\n",
       "      <td>-98.233247</td>\n",
       "    </tr>\n",
       "    <tr>\n",
       "      <th>27</th>\n",
       "      <td>Lodge Pole Creek</td>\n",
       "      <td>36.963245</td>\n",
       "      <td>-99.466671</td>\n",
       "    </tr>\n",
       "    <tr>\n",
       "      <th>4</th>\n",
       "      <td>Earth</td>\n",
       "      <td>34.233137</td>\n",
       "      <td>-102.410749</td>\n",
       "    </tr>\n",
       "    <tr>\n",
       "      <th>2</th>\n",
       "      <td>Laramie Peak</td>\n",
       "      <td>42.267897</td>\n",
       "      <td>-105.443274</td>\n",
       "    </tr>\n",
       "    <tr>\n",
       "      <th>26</th>\n",
       "      <td>Laramie</td>\n",
       "      <td>41.311367</td>\n",
       "      <td>-105.591101</td>\n",
       "    </tr>\n",
       "    <tr>\n",
       "      <th>19</th>\n",
       "      <td>American Desert</td>\n",
       "      <td>39.058456</td>\n",
       "      <td>-108.612291</td>\n",
       "    </tr>\n",
       "    <tr>\n",
       "      <th>16</th>\n",
       "      <td>North America</td>\n",
       "      <td>51.000000</td>\n",
       "      <td>-109.000000</td>\n",
       "    </tr>\n",
       "    <tr>\n",
       "      <th>8</th>\n",
       "      <td>Green River</td>\n",
       "      <td>41.529093</td>\n",
       "      <td>-109.466473</td>\n",
       "    </tr>\n",
       "    <tr>\n",
       "      <th>32</th>\n",
       "      <td>Havre</td>\n",
       "      <td>48.553697</td>\n",
       "      <td>-109.677802</td>\n",
       "    </tr>\n",
       "    <tr>\n",
       "      <th>39</th>\n",
       "      <td>Weber River</td>\n",
       "      <td>41.194542</td>\n",
       "      <td>-111.991131</td>\n",
       "    </tr>\n",
       "    <tr>\n",
       "      <th>15</th>\n",
       "      <td>Saddle Peak</td>\n",
       "      <td>51.231499</td>\n",
       "      <td>-115.230220</td>\n",
       "    </tr>\n",
       "    <tr>\n",
       "      <th>1</th>\n",
       "      <td>Humboldt River</td>\n",
       "      <td>40.224027</td>\n",
       "      <td>-118.421161</td>\n",
       "    </tr>\n",
       "    <tr>\n",
       "      <th>41</th>\n",
       "      <td>San Pablo Bay</td>\n",
       "      <td>38.047532</td>\n",
       "      <td>-122.382798</td>\n",
       "    </tr>\n",
       "    <tr>\n",
       "      <th>13</th>\n",
       "      <td>Pacific</td>\n",
       "      <td>46.533493</td>\n",
       "      <td>-123.768029</td>\n",
       "    </tr>\n",
       "    <tr>\n",
       "      <th>42</th>\n",
       "      <td>Humboldt Range</td>\n",
       "      <td>40.131821</td>\n",
       "      <td>-124.122576</td>\n",
       "    </tr>\n",
       "    <tr>\n",
       "      <th>5</th>\n",
       "      <td>Bitter Creek Valley</td>\n",
       "      <td>56.022449</td>\n",
       "      <td>-129.841458</td>\n",
       "    </tr>\n",
       "  </tbody>\n",
       "</table>\n",
       "</div>"
      ],
      "text/plain": [
       "                      0   latitude   longitude\n",
       "44   Humboldt Mountains -44.670229  168.224466\n",
       "29                South  36.638392  127.696119\n",
       "30       Shanghai River  30.778942  121.073122\n",
       "3    Queenstown Harbour   1.278822  103.785394\n",
       "10              Andaman  10.000105   93.000019\n",
       "9                  Asia  51.208697   89.234375\n",
       "6          Malabar Hill  18.958162   72.803366\n",
       "12                 Suez  29.974498   32.537086\n",
       "36               Uranus  44.422216   26.082092\n",
       "20               Africa  11.502434   17.757812\n",
       "0                Europe  51.000000   10.000000\n",
       "33             Northern   9.660001   -0.394380\n",
       "18             Bordeaux  44.841225   -0.580036\n",
       "25      Central Pacific   5.138457   -1.280933\n",
       "14   Burlington Gardens  53.331832   -6.249319\n",
       "17          Fire Island  40.647600  -73.145947\n",
       "37               Hudson  40.738163  -74.055073\n",
       "22             Atlantic  39.514327  -74.663288\n",
       "11              Neptune  39.075356  -81.779854\n",
       "34           Peninsular  42.787091  -83.258503\n",
       "28                 Gulf  29.966525  -85.217589\n",
       "35        Lake Michigan  43.855448  -87.081975\n",
       "24          New Holland  40.184767  -89.580938\n",
       "23          Mississippi  32.971528  -89.734850\n",
       "21     Republican River  39.593491  -97.667035\n",
       "31         Platte River  40.917237  -98.233247\n",
       "27     Lodge Pole Creek  36.963245  -99.466671\n",
       "4                 Earth  34.233137 -102.410749\n",
       "2          Laramie Peak  42.267897 -105.443274\n",
       "26              Laramie  41.311367 -105.591101\n",
       "19      American Desert  39.058456 -108.612291\n",
       "16        North America  51.000000 -109.000000\n",
       "8           Green River  41.529093 -109.466473\n",
       "32                Havre  48.553697 -109.677802\n",
       "39          Weber River  41.194542 -111.991131\n",
       "15          Saddle Peak  51.231499 -115.230220\n",
       "1        Humboldt River  40.224027 -118.421161\n",
       "41        San Pablo Bay  38.047532 -122.382798\n",
       "13              Pacific  46.533493 -123.768029\n",
       "42       Humboldt Range  40.131821 -124.122576\n",
       "5   Bitter Creek Valley  56.022449 -129.841458"
      ]
     },
     "execution_count": 7,
     "metadata": {},
     "output_type": "execute_result"
    }
   ],
   "source": [
    "df"
   ]
  },
  {
   "cell_type": "code",
   "execution_count": 7,
   "metadata": {},
   "outputs": [
    {
     "data": {
      "application/vnd.plotly.v1+json": {
       "config": {
        "plotlyServerURL": "https://plot.ly"
       },
       "data": [
        {
         "lat": [
          -44.6702293,
          36.638392,
          30.7789424,
          1.2788222,
          10.0001051,
          51.2086975,
          18.9581616,
          18.9581616,
          29.974498,
          44.4222156,
          11.5024338,
          51,
          9.6600005,
          44.841225,
          5.1384566,
          53.3318318,
          40.6475997,
          40.7381635,
          39.5143268,
          39.0753562,
          42.787091,
          29.9665252,
          43.85544805,
          40.1847671,
          32.9715285,
          39.5934906,
          40.9172365,
          36.963245,
          34.2331373,
          42.2678971,
          41.311367,
          39.0584555,
          51.0000002,
          41.5290933,
          48.5536972,
          41.1945417,
          51.2314995,
          40.2240269,
          38.04753245,
          46.5334929,
          40.13182125,
          56.02244865
         ],
         "lon": [
          168.2244662,
          127.6961188,
          121.0731222,
          103.78539369909012,
          93.0000194,
          89.2343748,
          72.8033665,
          72.8033665,
          32.537086,
          26.0820917,
          17.7578122,
          10,
          -0.3943799,
          -0.5800364,
          -1.2809327,
          -6.249318853367153,
          -73.1459474,
          -74.0550731,
          -74.6632883,
          -81.7798545,
          -83.258503,
          -85.2175889,
          -87.08197544688093,
          -89.580938,
          -89.7348497,
          -97.6670355,
          -98.2332468,
          -99.466671,
          -102.4107493,
          -105.4432744,
          -105.591101,
          -108.6122913,
          -109,
          -109.466473,
          -109.677802,
          -111.9911306,
          -115.23022,
          -118.4211615,
          -122.3827976428955,
          -123.768029,
          -124.12257627868264,
          -129.84145782907348
         ],
         "marker": {
          "color": "blue",
          "size": 10
         },
         "mode": "markers",
         "name": "Points",
         "type": "scattermapbox"
        },
        {
         "hoverinfo": "none",
         "lat": [
          -44.6702293,
          36.638392,
          30.7789424,
          1.2788222,
          10.0001051,
          51.2086975,
          18.9581616,
          18.9581616,
          29.974498,
          44.4222156,
          11.5024338,
          51,
          9.6600005,
          44.841225,
          5.1384566,
          53.3318318,
          40.6475997,
          40.7381635,
          39.5143268,
          39.0753562,
          42.787091,
          29.9665252,
          43.85544805,
          40.1847671,
          32.9715285,
          39.5934906,
          40.9172365,
          36.963245,
          34.2331373,
          42.2678971,
          41.311367,
          39.0584555,
          51.0000002,
          41.5290933,
          48.5536972,
          41.1945417,
          51.2314995,
          40.2240269,
          38.04753245,
          46.5334929,
          40.13182125,
          56.02244865
         ],
         "line": {
          "color": "red",
          "width": 2
         },
         "lon": [
          168.2244662,
          127.6961188,
          121.0731222,
          103.78539369909012,
          93.0000194,
          89.2343748,
          72.8033665,
          72.8033665,
          32.537086,
          26.0820917,
          17.7578122,
          10,
          -0.3943799,
          -0.5800364,
          -1.2809327,
          -6.249318853367153,
          -73.1459474,
          -74.0550731,
          -74.6632883,
          -81.7798545,
          -83.258503,
          -85.2175889,
          -87.08197544688093,
          -89.580938,
          -89.7348497,
          -97.6670355,
          -98.2332468,
          -99.466671,
          -102.4107493,
          -105.4432744,
          -105.591101,
          -108.6122913,
          -109,
          -109.466473,
          -109.677802,
          -111.9911306,
          -115.23022,
          -118.4211615,
          -122.3827976428955,
          -123.768029,
          -124.12257627868264,
          -129.84145782907348
         ],
         "mode": "lines",
         "type": "scattermapbox"
        }
       ],
       "layout": {
        "mapbox": {
         "center": {
          "lat": 34.561321511904765,
          "lon": -40.55598774647166
         },
         "style": "open-street-map",
         "zoom": 3
        },
        "margin": {
         "b": 0,
         "l": 0,
         "r": 0,
         "t": 0
        },
        "template": {
         "data": {
          "bar": [
           {
            "error_x": {
             "color": "#2a3f5f"
            },
            "error_y": {
             "color": "#2a3f5f"
            },
            "marker": {
             "line": {
              "color": "#E5ECF6",
              "width": 0.5
             },
             "pattern": {
              "fillmode": "overlay",
              "size": 10,
              "solidity": 0.2
             }
            },
            "type": "bar"
           }
          ],
          "barpolar": [
           {
            "marker": {
             "line": {
              "color": "#E5ECF6",
              "width": 0.5
             },
             "pattern": {
              "fillmode": "overlay",
              "size": 10,
              "solidity": 0.2
             }
            },
            "type": "barpolar"
           }
          ],
          "carpet": [
           {
            "aaxis": {
             "endlinecolor": "#2a3f5f",
             "gridcolor": "white",
             "linecolor": "white",
             "minorgridcolor": "white",
             "startlinecolor": "#2a3f5f"
            },
            "baxis": {
             "endlinecolor": "#2a3f5f",
             "gridcolor": "white",
             "linecolor": "white",
             "minorgridcolor": "white",
             "startlinecolor": "#2a3f5f"
            },
            "type": "carpet"
           }
          ],
          "choropleth": [
           {
            "colorbar": {
             "outlinewidth": 0,
             "ticks": ""
            },
            "type": "choropleth"
           }
          ],
          "contour": [
           {
            "colorbar": {
             "outlinewidth": 0,
             "ticks": ""
            },
            "colorscale": [
             [
              0,
              "#0d0887"
             ],
             [
              0.1111111111111111,
              "#46039f"
             ],
             [
              0.2222222222222222,
              "#7201a8"
             ],
             [
              0.3333333333333333,
              "#9c179e"
             ],
             [
              0.4444444444444444,
              "#bd3786"
             ],
             [
              0.5555555555555556,
              "#d8576b"
             ],
             [
              0.6666666666666666,
              "#ed7953"
             ],
             [
              0.7777777777777778,
              "#fb9f3a"
             ],
             [
              0.8888888888888888,
              "#fdca26"
             ],
             [
              1,
              "#f0f921"
             ]
            ],
            "type": "contour"
           }
          ],
          "contourcarpet": [
           {
            "colorbar": {
             "outlinewidth": 0,
             "ticks": ""
            },
            "type": "contourcarpet"
           }
          ],
          "heatmap": [
           {
            "colorbar": {
             "outlinewidth": 0,
             "ticks": ""
            },
            "colorscale": [
             [
              0,
              "#0d0887"
             ],
             [
              0.1111111111111111,
              "#46039f"
             ],
             [
              0.2222222222222222,
              "#7201a8"
             ],
             [
              0.3333333333333333,
              "#9c179e"
             ],
             [
              0.4444444444444444,
              "#bd3786"
             ],
             [
              0.5555555555555556,
              "#d8576b"
             ],
             [
              0.6666666666666666,
              "#ed7953"
             ],
             [
              0.7777777777777778,
              "#fb9f3a"
             ],
             [
              0.8888888888888888,
              "#fdca26"
             ],
             [
              1,
              "#f0f921"
             ]
            ],
            "type": "heatmap"
           }
          ],
          "heatmapgl": [
           {
            "colorbar": {
             "outlinewidth": 0,
             "ticks": ""
            },
            "colorscale": [
             [
              0,
              "#0d0887"
             ],
             [
              0.1111111111111111,
              "#46039f"
             ],
             [
              0.2222222222222222,
              "#7201a8"
             ],
             [
              0.3333333333333333,
              "#9c179e"
             ],
             [
              0.4444444444444444,
              "#bd3786"
             ],
             [
              0.5555555555555556,
              "#d8576b"
             ],
             [
              0.6666666666666666,
              "#ed7953"
             ],
             [
              0.7777777777777778,
              "#fb9f3a"
             ],
             [
              0.8888888888888888,
              "#fdca26"
             ],
             [
              1,
              "#f0f921"
             ]
            ],
            "type": "heatmapgl"
           }
          ],
          "histogram": [
           {
            "marker": {
             "pattern": {
              "fillmode": "overlay",
              "size": 10,
              "solidity": 0.2
             }
            },
            "type": "histogram"
           }
          ],
          "histogram2d": [
           {
            "colorbar": {
             "outlinewidth": 0,
             "ticks": ""
            },
            "colorscale": [
             [
              0,
              "#0d0887"
             ],
             [
              0.1111111111111111,
              "#46039f"
             ],
             [
              0.2222222222222222,
              "#7201a8"
             ],
             [
              0.3333333333333333,
              "#9c179e"
             ],
             [
              0.4444444444444444,
              "#bd3786"
             ],
             [
              0.5555555555555556,
              "#d8576b"
             ],
             [
              0.6666666666666666,
              "#ed7953"
             ],
             [
              0.7777777777777778,
              "#fb9f3a"
             ],
             [
              0.8888888888888888,
              "#fdca26"
             ],
             [
              1,
              "#f0f921"
             ]
            ],
            "type": "histogram2d"
           }
          ],
          "histogram2dcontour": [
           {
            "colorbar": {
             "outlinewidth": 0,
             "ticks": ""
            },
            "colorscale": [
             [
              0,
              "#0d0887"
             ],
             [
              0.1111111111111111,
              "#46039f"
             ],
             [
              0.2222222222222222,
              "#7201a8"
             ],
             [
              0.3333333333333333,
              "#9c179e"
             ],
             [
              0.4444444444444444,
              "#bd3786"
             ],
             [
              0.5555555555555556,
              "#d8576b"
             ],
             [
              0.6666666666666666,
              "#ed7953"
             ],
             [
              0.7777777777777778,
              "#fb9f3a"
             ],
             [
              0.8888888888888888,
              "#fdca26"
             ],
             [
              1,
              "#f0f921"
             ]
            ],
            "type": "histogram2dcontour"
           }
          ],
          "mesh3d": [
           {
            "colorbar": {
             "outlinewidth": 0,
             "ticks": ""
            },
            "type": "mesh3d"
           }
          ],
          "parcoords": [
           {
            "line": {
             "colorbar": {
              "outlinewidth": 0,
              "ticks": ""
             }
            },
            "type": "parcoords"
           }
          ],
          "pie": [
           {
            "automargin": true,
            "type": "pie"
           }
          ],
          "scatter": [
           {
            "fillpattern": {
             "fillmode": "overlay",
             "size": 10,
             "solidity": 0.2
            },
            "type": "scatter"
           }
          ],
          "scatter3d": [
           {
            "line": {
             "colorbar": {
              "outlinewidth": 0,
              "ticks": ""
             }
            },
            "marker": {
             "colorbar": {
              "outlinewidth": 0,
              "ticks": ""
             }
            },
            "type": "scatter3d"
           }
          ],
          "scattercarpet": [
           {
            "marker": {
             "colorbar": {
              "outlinewidth": 0,
              "ticks": ""
             }
            },
            "type": "scattercarpet"
           }
          ],
          "scattergeo": [
           {
            "marker": {
             "colorbar": {
              "outlinewidth": 0,
              "ticks": ""
             }
            },
            "type": "scattergeo"
           }
          ],
          "scattergl": [
           {
            "marker": {
             "colorbar": {
              "outlinewidth": 0,
              "ticks": ""
             }
            },
            "type": "scattergl"
           }
          ],
          "scattermapbox": [
           {
            "marker": {
             "colorbar": {
              "outlinewidth": 0,
              "ticks": ""
             }
            },
            "type": "scattermapbox"
           }
          ],
          "scatterpolar": [
           {
            "marker": {
             "colorbar": {
              "outlinewidth": 0,
              "ticks": ""
             }
            },
            "type": "scatterpolar"
           }
          ],
          "scatterpolargl": [
           {
            "marker": {
             "colorbar": {
              "outlinewidth": 0,
              "ticks": ""
             }
            },
            "type": "scatterpolargl"
           }
          ],
          "scatterternary": [
           {
            "marker": {
             "colorbar": {
              "outlinewidth": 0,
              "ticks": ""
             }
            },
            "type": "scatterternary"
           }
          ],
          "surface": [
           {
            "colorbar": {
             "outlinewidth": 0,
             "ticks": ""
            },
            "colorscale": [
             [
              0,
              "#0d0887"
             ],
             [
              0.1111111111111111,
              "#46039f"
             ],
             [
              0.2222222222222222,
              "#7201a8"
             ],
             [
              0.3333333333333333,
              "#9c179e"
             ],
             [
              0.4444444444444444,
              "#bd3786"
             ],
             [
              0.5555555555555556,
              "#d8576b"
             ],
             [
              0.6666666666666666,
              "#ed7953"
             ],
             [
              0.7777777777777778,
              "#fb9f3a"
             ],
             [
              0.8888888888888888,
              "#fdca26"
             ],
             [
              1,
              "#f0f921"
             ]
            ],
            "type": "surface"
           }
          ],
          "table": [
           {
            "cells": {
             "fill": {
              "color": "#EBF0F8"
             },
             "line": {
              "color": "white"
             }
            },
            "header": {
             "fill": {
              "color": "#C8D4E3"
             },
             "line": {
              "color": "white"
             }
            },
            "type": "table"
           }
          ]
         },
         "layout": {
          "annotationdefaults": {
           "arrowcolor": "#2a3f5f",
           "arrowhead": 0,
           "arrowwidth": 1
          },
          "autotypenumbers": "strict",
          "coloraxis": {
           "colorbar": {
            "outlinewidth": 0,
            "ticks": ""
           }
          },
          "colorscale": {
           "diverging": [
            [
             0,
             "#8e0152"
            ],
            [
             0.1,
             "#c51b7d"
            ],
            [
             0.2,
             "#de77ae"
            ],
            [
             0.3,
             "#f1b6da"
            ],
            [
             0.4,
             "#fde0ef"
            ],
            [
             0.5,
             "#f7f7f7"
            ],
            [
             0.6,
             "#e6f5d0"
            ],
            [
             0.7,
             "#b8e186"
            ],
            [
             0.8,
             "#7fbc41"
            ],
            [
             0.9,
             "#4d9221"
            ],
            [
             1,
             "#276419"
            ]
           ],
           "sequential": [
            [
             0,
             "#0d0887"
            ],
            [
             0.1111111111111111,
             "#46039f"
            ],
            [
             0.2222222222222222,
             "#7201a8"
            ],
            [
             0.3333333333333333,
             "#9c179e"
            ],
            [
             0.4444444444444444,
             "#bd3786"
            ],
            [
             0.5555555555555556,
             "#d8576b"
            ],
            [
             0.6666666666666666,
             "#ed7953"
            ],
            [
             0.7777777777777778,
             "#fb9f3a"
            ],
            [
             0.8888888888888888,
             "#fdca26"
            ],
            [
             1,
             "#f0f921"
            ]
           ],
           "sequentialminus": [
            [
             0,
             "#0d0887"
            ],
            [
             0.1111111111111111,
             "#46039f"
            ],
            [
             0.2222222222222222,
             "#7201a8"
            ],
            [
             0.3333333333333333,
             "#9c179e"
            ],
            [
             0.4444444444444444,
             "#bd3786"
            ],
            [
             0.5555555555555556,
             "#d8576b"
            ],
            [
             0.6666666666666666,
             "#ed7953"
            ],
            [
             0.7777777777777778,
             "#fb9f3a"
            ],
            [
             0.8888888888888888,
             "#fdca26"
            ],
            [
             1,
             "#f0f921"
            ]
           ]
          },
          "colorway": [
           "#636efa",
           "#EF553B",
           "#00cc96",
           "#ab63fa",
           "#FFA15A",
           "#19d3f3",
           "#FF6692",
           "#B6E880",
           "#FF97FF",
           "#FECB52"
          ],
          "font": {
           "color": "#2a3f5f"
          },
          "geo": {
           "bgcolor": "white",
           "lakecolor": "white",
           "landcolor": "#E5ECF6",
           "showlakes": true,
           "showland": true,
           "subunitcolor": "white"
          },
          "hoverlabel": {
           "align": "left"
          },
          "hovermode": "closest",
          "mapbox": {
           "style": "light"
          },
          "paper_bgcolor": "white",
          "plot_bgcolor": "#E5ECF6",
          "polar": {
           "angularaxis": {
            "gridcolor": "white",
            "linecolor": "white",
            "ticks": ""
           },
           "bgcolor": "#E5ECF6",
           "radialaxis": {
            "gridcolor": "white",
            "linecolor": "white",
            "ticks": ""
           }
          },
          "scene": {
           "xaxis": {
            "backgroundcolor": "#E5ECF6",
            "gridcolor": "white",
            "gridwidth": 2,
            "linecolor": "white",
            "showbackground": true,
            "ticks": "",
            "zerolinecolor": "white"
           },
           "yaxis": {
            "backgroundcolor": "#E5ECF6",
            "gridcolor": "white",
            "gridwidth": 2,
            "linecolor": "white",
            "showbackground": true,
            "ticks": "",
            "zerolinecolor": "white"
           },
           "zaxis": {
            "backgroundcolor": "#E5ECF6",
            "gridcolor": "white",
            "gridwidth": 2,
            "linecolor": "white",
            "showbackground": true,
            "ticks": "",
            "zerolinecolor": "white"
           }
          },
          "shapedefaults": {
           "line": {
            "color": "#2a3f5f"
           }
          },
          "ternary": {
           "aaxis": {
            "gridcolor": "white",
            "linecolor": "white",
            "ticks": ""
           },
           "baxis": {
            "gridcolor": "white",
            "linecolor": "white",
            "ticks": ""
           },
           "bgcolor": "#E5ECF6",
           "caxis": {
            "gridcolor": "white",
            "linecolor": "white",
            "ticks": ""
           }
          },
          "title": {
           "x": 0.05
          },
          "xaxis": {
           "automargin": true,
           "gridcolor": "white",
           "linecolor": "white",
           "ticks": "",
           "title": {
            "standoff": 15
           },
           "zerolinecolor": "white",
           "zerolinewidth": 2
          },
          "yaxis": {
           "automargin": true,
           "gridcolor": "white",
           "linecolor": "white",
           "ticks": "",
           "title": {
            "standoff": 15
           },
           "zerolinecolor": "white",
           "zerolinewidth": 2
          }
         }
        }
       }
      }
     },
     "metadata": {},
     "output_type": "display_data"
    }
   ],
   "source": [
    "import plotly.graph_objs as go\n",
    "\n",
    "fig = go.Figure()\n",
    "\n",
    "# Add trace for the points\n",
    "fig.add_trace(go.Scattermapbox(\n",
    "    lat=df['latitude'],\n",
    "    lon=df['longitude'],\n",
    "    mode='markers',\n",
    "    marker=dict(size=10, color='blue'),\n",
    "    name='Points'\n",
    "))\n",
    "\n",
    "# Add trace for connecting the dots\n",
    "fig.add_trace(go.Scattermapbox(\n",
    "    lat=df['latitude'],\n",
    "    lon=df['longitude'],\n",
    "    mode='lines',\n",
    "    line=dict(color='red', width=2),\n",
    "    hoverinfo='none'\n",
    "))\n",
    "\n",
    "# Update layout\n",
    "fig.update_layout(\n",
    "    mapbox=dict(\n",
    "        style='open-street-map',\n",
    "        center=dict(lat=df['latitude'].mean(), lon=df['longitude'].mean()),\n",
    "        zoom=3\n",
    "    ),\n",
    "    margin=dict(l=0, r=0, t=0, b=0)\n",
    ")\n",
    "\n",
    "fig.show()"
   ]
  }
 ],
 "metadata": {
  "kernelspec": {
   "display_name": "Python 3.8.9 ('nlp': venv)",
   "language": "python",
   "name": "python3"
  },
  "language_info": {
   "codemirror_mode": {
    "name": "ipython",
    "version": 3
   },
   "file_extension": ".py",
   "mimetype": "text/x-python",
   "name": "python",
   "nbconvert_exporter": "python",
   "pygments_lexer": "ipython3",
   "version": "3.8.9"
  },
  "orig_nbformat": 4,
  "vscode": {
   "interpreter": {
    "hash": "91bc67dd10cfa0c9a878728ef16362ae500db1adfe602a3e6bd5b166d54fd8c3"
   }
  }
 },
 "nbformat": 4,
 "nbformat_minor": 2
}
